{
 "cells": [
  {
   "cell_type": "markdown",
   "id": "b711c71a",
   "metadata": {},
   "source": [
    "## Template 101022\n"
   ]
  },
  {
   "cell_type": "markdown",
   "id": "e7949639",
   "metadata": {},
   "source": [
    "We need to load the following libraries. Make sure that the anndata version you have installed matches the one used by [cellxgene-schema](https://github.com/chanzuckerberg/single-cell-curation)"
   ]
  },
  {
   "cell_type": "code",
   "execution_count": 1,
   "id": "75fd8f5a",
   "metadata": {},
   "outputs": [],
   "source": [
    "import pandas as pd\n",
    "import scanpy as sc \n",
    "import anndata as ad\n",
    "import numpy as np\n",
    "from scipy.sparse import csr_matrix"
   ]
  },
  {
   "cell_type": "code",
   "execution_count": 2,
   "id": "97685d26",
   "metadata": {},
   "outputs": [],
   "source": [
    "hdata = sc.read(\"To_Cellxgene_elo_lung_211122.h5ad\")\n"
   ]
  },
  {
   "cell_type": "code",
   "execution_count": null,
   "id": "c063c5c4",
   "metadata": {},
   "outputs": [],
   "source": [
    "hdata = ad.read(\"To_Cellxgene_elo_lung_211122.h5ad\")"
   ]
  },
  {
   "cell_type": "code",
   "execution_count": null,
   "id": "387204ce",
   "metadata": {},
   "outputs": [],
   "source": [
    "hdata.obs = hdata.obs.rename(columns={'Donor': 'donor_ID'})"
   ]
  },
  {
   "cell_type": "code",
   "execution_count": null,
   "id": "0c8599b7",
   "metadata": {},
   "outputs": [],
   "source": []
  },
  {
   "cell_type": "code",
   "execution_count": null,
   "id": "eb8cbdea",
   "metadata": {},
   "outputs": [],
   "source": [
    "df.rename(columns={'oldName1': 'newName1', 'oldName2': 'newName2'}, inplace=True)\n"
   ]
  },
  {
   "cell_type": "code",
   "execution_count": null,
   "id": "bdb62787",
   "metadata": {},
   "outputs": [],
   "source": [
    "hdata.obsp = adata.obsp"
   ]
  },
  {
   "cell_type": "code",
   "execution_count": null,
   "id": "8339cead",
   "metadata": {},
   "outputs": [],
   "source": [
    "adata"
   ]
  },
  {
   "cell_type": "code",
   "execution_count": null,
   "id": "cc1fbbd0",
   "metadata": {},
   "outputs": [],
   "source": [
    "pip show anndata"
   ]
  },
  {
   "cell_type": "markdown",
   "id": "acb4e9c5",
   "metadata": {},
   "source": [
    "## Read data"
   ]
  },
  {
   "cell_type": "markdown",
   "id": "58138211",
   "metadata": {},
   "source": [
    "Read the annotated and raw h5ad, or h5 file"
   ]
  },
  {
   "cell_type": "code",
   "execution_count": null,
   "id": "73d2ce3b",
   "metadata": {},
   "outputs": [],
   "source": [
    "adata = sc.read(\"lung_5loc_sc_sn_cellxgene_23092022.h5ad\")"
   ]
  },
  {
   "cell_type": "code",
   "execution_count": null,
   "id": "d4f77c6c",
   "metadata": {},
   "outputs": [],
   "source": [
    "rdata = sc.read(\"lung_5loc_sc_sn_raw_cellxgene_23092022.h5ad\")"
   ]
  },
  {
   "cell_type": "markdown",
   "id": "29162ff0",
   "metadata": {},
   "source": [
    "## Prepare the hd5a layers need for CellxGene"
   ]
  },
  {
   "cell_type": "markdown",
   "id": "6dba4a74",
   "metadata": {},
   "source": [
    "### Prepare the obs layer\n",
    "\n",
    "First we extract the obs layer from the h5ad file that has been provided to us. Then we extract out the obs layer as a csv file. \n",
    "\n"
   ]
  },
  {
   "cell_type": "code",
   "execution_count": null,
   "id": "407ee81d",
   "metadata": {},
   "outputs": [],
   "source": [
    "a_obs = adata.obs\n",
    "a_obs.to_csv(\"a_obs_layer.csv\")"
   ]
  },
  {
   "cell_type": "code",
   "execution_count": null,
   "id": "a3ee94c8",
   "metadata": {},
   "outputs": [],
   "source": [
    "r_obs = rdata.obs\n",
    "r_obs.to_csv(\"r_obs_layer.csv\")"
   ]
  },
  {
   "cell_type": "code",
   "execution_count": null,
   "id": "b532d66f",
   "metadata": {},
   "outputs": [],
   "source": [
    "a_obs"
   ]
  },
  {
   "cell_type": "code",
   "execution_count": null,
   "id": "112d050c",
   "metadata": {},
   "outputs": [],
   "source": [
    "r_obs"
   ]
  },
  {
   "cell_type": "markdown",
   "id": "b54a3151",
   "metadata": {},
   "source": [
    "Download the excel spreadsheet from the INGEST data submission, and navigate to the sequence_file page.\n",
    "Select the cell_suspension.biomaterial_core.biomaterial_id, cell_suspension.uuid, and library_preparation_protocol.protocol_core.protocol_id and filter for duplicates on those keys. This results in a unique set of cell_suspensions with their related data. \n",
    "\n",
    "See script here: https://github.com/ebi-ait/ingest-cellxgene-submitter#create-obs-layer-from-multiple-cell-suspension-uuids"
   ]
  },
  {
   "cell_type": "markdown",
   "id": "e2fdf4dc",
   "metadata": {},
   "source": [
    "The manual work here is  matching up unique HCA cell_suspensions and metadata with the  unique samples in the provided-h5ad file. We then generate a final obs_layer.csv which combines HCA metadata with the provided metadata from the contributor in matching rows. There is an opportunity for future automation here for scripts to perform the matching and to provide cell-type ontology terms. "
   ]
  },
  {
   "cell_type": "markdown",
   "id": "ca06ac46",
   "metadata": {},
   "source": [
    "For a list of fields which should be in the final obs_layer.csv see (https://github.com/chanzuckerberg/single-cell-curation/blob/main/schema/3.0.0/schema.md)\n",
    "- assay_ontology_term_id\n",
    "- cell_type_ontology_term_id\n",
    "- development_stage_ontology_term_id\n",
    "- disease_ontology_term_id\n",
    "- ethnicity_ontology_term_id\n",
    "- is_primary_data\n",
    "- organism_ontology_term_id\n",
    "- sex_ontology_term_id\n",
    "- tissue_ontology_term_id\n",
    "- donor_id"
   ]
  },
  {
   "cell_type": "markdown",
   "id": "960a6bfb",
   "metadata": {},
   "source": [
    "There is also some manual work here to select cell-type ontology terms from the free text cell-type provided by the contributors. There is an opportunity for future automation here to get scripts / work with other experts in ontology to do this. "
   ]
  },
  {
   "cell_type": "markdown",
   "id": "644e7c4a",
   "metadata": {},
   "source": [
    "Once we have the final combined obs_layer, then save it as \"obs_layer.csv\" and save it as a dobs2 object"
   ]
  },
  {
   "cell_type": "code",
   "execution_count": null,
   "id": "5f9fb555",
   "metadata": {
    "scrolled": true
   },
   "outputs": [],
   "source": [
    "dobs2 = pd.read_csv(\"cellxgene_obs_layer.csv\", sep=\",\", encoding= 'utf-8')"
   ]
  },
  {
   "cell_type": "code",
   "execution_count": null,
   "id": "bb93fa3d",
   "metadata": {},
   "outputs": [],
   "source": [
    "dobs2.dtypes"
   ]
  },
  {
   "cell_type": "code",
   "execution_count": null,
   "id": "48a9d5bf",
   "metadata": {},
   "outputs": [],
   "source": [
    "dobs2 = dobs2.set_index(\"Unnamed: 0\", inplace = False)"
   ]
  },
  {
   "cell_type": "markdown",
   "id": "22cb3b02",
   "metadata": {},
   "source": [
    "Check here for redundant fields in the obs layer (e.g. tissue_label, donor_ext). Assay_ontology_term_id should be '10x v2 5' sequencing' as opposed to '10x TCR'.\n",
    "Development_stage and tissue should be made specific (e.g. 35-year old human stage).\n",
    "Unannotated cells use CL:0000003 (native cell).\n",
    "Check that certain fields in the obs layer should not be continuous / numerical, but should be categorical or string. Use the cells below to fix this if necessary."
   ]
  },
  {
   "cell_type": "code",
   "execution_count": null,
   "id": "4e33de54",
   "metadata": {},
   "outputs": [],
   "source": [
    "adata.obs = dobs2"
   ]
  },
  {
   "cell_type": "code",
   "execution_count": null,
   "id": "844ad39c",
   "metadata": {},
   "outputs": [],
   "source": [
    "adata.obs = adata.obs.drop(['Unnamed: 18','author_tissue','tissue_label','donor_ext'], axis = 1)"
   ]
  },
  {
   "cell_type": "code",
   "execution_count": null,
   "id": "69fce684",
   "metadata": {},
   "outputs": [],
   "source": [
    "dobs2.dtypes"
   ]
  },
  {
   "cell_type": "code",
   "execution_count": null,
   "id": "e8a181b2",
   "metadata": {},
   "outputs": [],
   "source": [
    "adata.obs = adata.obs.astype({'batch': 'category','cluster':'category'}, copy = False)"
   ]
  },
  {
   "cell_type": "markdown",
   "id": "792929d9",
   "metadata": {},
   "source": [
    "### Prepare the uns layer"
   ]
  },
  {
   "cell_type": "markdown",
   "id": "bb3f76d3",
   "metadata": {},
   "source": [
    "In cases where the uns layer already exists, rather than creating the uns layer, we will add to it.\n",
    "In this case, schema_version is 2.0.0 (although 3.0.0 is coming soon). Title is the name of the dataset. X_normalization is being deprecated in 3.0.0, but is the method of generating the X layer from the raw.X. "
   ]
  },
  {
   "cell_type": "code",
   "execution_count": null,
   "id": "6df5b6d0",
   "metadata": {},
   "outputs": [],
   "source": [
    "uns = adata.uns\n",
    "uns.keys"
   ]
  },
  {
   "cell_type": "code",
   "execution_count": null,
   "id": "088ef878",
   "metadata": {},
   "outputs": [],
   "source": [
    "uns['schema_version']='3.0.0'\n",
    "uns['title'] = \"A spatial multi-omics atlas of the human lung reveals a novel immune cell survival niche\"\n",
    "uns"
   ]
  },
  {
   "cell_type": "markdown",
   "id": "4a8ca8b3",
   "metadata": {},
   "source": [
    "Else if the uns layer does not exist, then we will create it "
   ]
  },
  {
   "cell_type": "code",
   "execution_count": null,
   "id": "4dcb4a13",
   "metadata": {},
   "outputs": [],
   "source": [
    "uns ={\n",
    "    \"schema_version\": \"2.0.0\",\n",
    "    \"title\": \"Transcriptomic characterisation of haematopoietic stem and progenitor cells from human adult bone marrow, spleen and peripheral blood\",\n",
    "    \"X_normalization\": \"The 10x count matrices from both donors (after multiplet filtering) were processed with the Seurat (version 2.3.4) R package\",\n",
    "}"
   ]
  },
  {
   "cell_type": "markdown",
   "id": "bab53ddb",
   "metadata": {},
   "source": [
    "### Check what's in the obsm layer"
   ]
  },
  {
   "cell_type": "markdown",
   "id": "8bba21b4",
   "metadata": {},
   "source": [
    "There should be an obsm layer with spatial embeddings included. "
   ]
  },
  {
   "cell_type": "code",
   "execution_count": null,
   "id": "900a22b0",
   "metadata": {},
   "outputs": [],
   "source": [
    "adata.obsm"
   ]
  },
  {
   "cell_type": "code",
   "execution_count": null,
   "id": "b11eb541",
   "metadata": {},
   "outputs": [],
   "source": [
    "obsm = adata.obsm"
   ]
  },
  {
   "cell_type": "markdown",
   "id": "fc97512f",
   "metadata": {},
   "source": [
    "### Check what's in the X, var and obs layers before editing them"
   ]
  },
  {
   "cell_type": "markdown",
   "id": "610a1176",
   "metadata": {},
   "source": [
    "Check that the obs_names from both annotated and raw matrices are the same"
   ]
  },
  {
   "cell_type": "code",
   "execution_count": null,
   "id": "347370f4",
   "metadata": {},
   "outputs": [],
   "source": [
    "t = adata.obs_names==rdata.obs_names\n",
    "np.count_nonzero(t)==adata.X.shape[0]"
   ]
  },
  {
   "cell_type": "markdown",
   "id": "1a07ca87",
   "metadata": {},
   "source": [
    "Assuming both obs layers do not match, not even in length, we would need to select from the raw layer those samples that are in the annotated layer. If they do match then ignore this. \n",
    "\n",
    "keep_rindices is a measure for the raw layer obs samples which are also in the annotated layer. "
   ]
  },
  {
   "cell_type": "code",
   "execution_count": null,
   "id": "4df4c6ac",
   "metadata": {},
   "outputs": [],
   "source": [
    "condition_rdata = rdata.obs_names.isin(adata.obs_names)\n",
    "keep_rdata = rdata.obs_names[condition_rdata]\n",
    "keep_rindices = np.where(condition_rdata == True)"
   ]
  },
  {
   "cell_type": "markdown",
   "id": "475a594d",
   "metadata": {},
   "source": [
    "### Prepare the var layer\n",
    "\n",
    "In this case, we may need to perform different steps:\n",
    "- Map the gene IDs to ENSEMBL IDs (using a specific GTF file)\n",
    "- If any genes genes have been filtered out when the authors processed the raw matrix, they will not available in the annotated matrix. We need to add them to the processed matrix. We checked this by inspecting the matrices, but can be checked again by running the following cell"
   ]
  },
  {
   "cell_type": "markdown",
   "id": "c01a5584",
   "metadata": {},
   "source": [
    "Check that both dataframes have the same number of rows. If they are different, the authors filtered out some genes from the PROCESSED, and we will need to add them in. \n"
   ]
  },
  {
   "cell_type": "code",
   "execution_count": null,
   "id": "6c65e64a",
   "metadata": {},
   "outputs": [],
   "source": [
    "dvar = pd.DataFrame(data=adata.var)\n",
    "rvar = pd.DataFrame(data=rdata.var)\n",
    "dvar.shape[0] == rvar.shape[0]"
   ]
  },
  {
   "cell_type": "code",
   "execution_count": null,
   "id": "04eab591",
   "metadata": {},
   "outputs": [],
   "source": [
    "dvar.columns"
   ]
  },
  {
   "cell_type": "code",
   "execution_count": null,
   "id": "12231c19",
   "metadata": {},
   "outputs": [],
   "source": [
    "rvar.columns"
   ]
  },
  {
   "cell_type": "markdown",
   "id": "7999103a",
   "metadata": {},
   "source": [
    "Some of the features have been filtered out of the processed matrices. We have to add the filtered-out genes at the end of the matrices. For that, we are gonna first fill in the *feature_is_filtered* column at the rvar dataframe. We can then create a new dataframe dropping all the non filtered gene, and add this dataframe with the filtered genes at the end of dvar"
   ]
  },
  {
   "cell_type": "code",
   "execution_count": null,
   "id": "5aed7920",
   "metadata": {},
   "outputs": [],
   "source": [
    "genes_add = [x for x in rdata.var.index.to_list() if x not in adata.var.index.to_list()]\n",
    "all_genes = adata.var.index.to_list()\n",
    "all_genes.extend(genes_add)\n",
    "new_var = pd.DataFrame(index=all_genes)\n",
    "new_var = pd.merge(new_var, rdata.var, left_index=True, right_index=True, how='left')\n",
    "new_var['feature_is_filtered'] = False\n",
    "new_var.loc[genes_add, 'feature_is_filtered'] = True"
   ]
  },
  {
   "cell_type": "code",
   "execution_count": null,
   "id": "1a787400",
   "metadata": {},
   "outputs": [],
   "source": [
    "dvar"
   ]
  },
  {
   "cell_type": "code",
   "execution_count": null,
   "id": "f060d643",
   "metadata": {},
   "outputs": [],
   "source": [
    "rvar"
   ]
  },
  {
   "cell_type": "code",
   "execution_count": null,
   "id": "42a16205",
   "metadata": {},
   "outputs": [],
   "source": [
    "rvar = rvar.set_index(\"gene_ids-1\")"
   ]
  },
  {
   "cell_type": "code",
   "execution_count": null,
   "id": "33b74d42",
   "metadata": {},
   "outputs": [],
   "source": [
    "dvar = dvar.set_index(\"gene_ids-1\")"
   ]
  },
  {
   "cell_type": "code",
   "execution_count": null,
   "id": "4a994355",
   "metadata": {},
   "outputs": [],
   "source": [
    "dvar.pop('Gene_symbols')"
   ]
  },
  {
   "cell_type": "markdown",
   "id": "d29f42cd",
   "metadata": {},
   "source": [
    "To read in dvar from an external csv file (or if you want to edit it in Excel) use the following code"
   ]
  },
  {
   "cell_type": "code",
   "execution_count": null,
   "id": "db406e0f",
   "metadata": {},
   "outputs": [],
   "source": [
    "dvar.to_csv(\"dvar.csv\")"
   ]
  },
  {
   "cell_type": "code",
   "execution_count": null,
   "id": "8689240e",
   "metadata": {},
   "outputs": [],
   "source": [
    "dvar = pd.read_csv('dvar.csv')"
   ]
  },
  {
   "cell_type": "markdown",
   "id": "fd8cd9ab",
   "metadata": {},
   "source": [
    "### Prepare the X layer\n",
    "\n",
    "In this case, we need to:\n",
    "- Append to the processed X layer the counts for the genes that were filtered out. We will set them to 0."
   ]
  },
  {
   "cell_type": "markdown",
   "id": "97d5fcac",
   "metadata": {},
   "source": [
    "#### Filter out the genes that did not map to ENSEMBL IDs"
   ]
  },
  {
   "cell_type": "code",
   "execution_count": null,
   "id": "219a6759",
   "metadata": {},
   "outputs": [],
   "source": [
    "if rdata.shape[1] > adata.shape[1]:\n",
    "    genes_add = [x for x in rdata.var.index.to_list() if x not in adata.var.index.to_list()]\n",
    "    new_matrix = csr_matrix((adata.X.data, adata.X.indices, adata.X.indptr), shape = rdata.shape)\n",
    "    all_genes = adata.var.index.to_list()\n",
    "    all_genes.extend(genes_add)\n",
    "    new_var = pd.DataFrame(index=all_genes)\n",
    "    new_var = pd.merge(new_var, rdata.var, left_index=True, right_index=True, how='left')\n",
    "    new_var['feature_is_filtered'] = False\n",
    "    new_var.loc[genes_add, 'feature_is_filtered'] = True\n",
    "    new_adata = ad.AnnData(X=new_matrix, obs=adata.obs, var=dvar, uns=adata.uns, obsm=adata.obsm)\n",
    "    new_adata = new_adata[:,rdata.var['gene_ids'].to_list()]\n",
    "else:\n",
    "    print('whoops')"
   ]
  },
  {
   "cell_type": "code",
   "execution_count": null,
   "id": "7f93a502",
   "metadata": {},
   "outputs": [],
   "source": [
    "new_adata = new_adata[:,cxg_adata_raw.var.index.to_list()]\n"
   ]
  },
  {
   "cell_type": "code",
   "execution_count": null,
   "id": "bbf34863",
   "metadata": {},
   "outputs": [],
   "source": [
    "print(new_adata.X)"
   ]
  },
  {
   "cell_type": "code",
   "execution_count": null,
   "id": "844fdcb8",
   "metadata": {},
   "outputs": [],
   "source": [
    "dExprs = normdata.X.toarray()\n",
    "dExprs = pd.DataFrame(data=dExprs)\n",
    "print(dExprs.shape)"
   ]
  },
  {
   "cell_type": "code",
   "execution_count": null,
   "id": "65b4b183",
   "metadata": {},
   "outputs": [],
   "source": [
    "rExprs = rawdata.X.toarray()"
   ]
  },
  {
   "cell_type": "code",
   "execution_count": null,
   "id": "15b11f63",
   "metadata": {},
   "outputs": [],
   "source": [
    "rExprs = rExprs.set_axis(rvar.index.to_list(), axis=1, inplace=False)"
   ]
  },
  {
   "cell_type": "markdown",
   "id": "893649ca",
   "metadata": {},
   "source": [
    "#### Append the genes filtered out by the authors when processing the X layer"
   ]
  },
  {
   "cell_type": "code",
   "execution_count": null,
   "id": "fd959a8a",
   "metadata": {},
   "outputs": [],
   "source": [
    "genesToAdd = dvar.loc[dvar['feature_is_filtered'] == True]"
   ]
  },
  {
   "cell_type": "code",
   "execution_count": null,
   "id": "e7140b11",
   "metadata": {},
   "outputs": [],
   "source": [
    "dExprs = dExprs.reindex(columns=[*dExprs.columns.tolist(), *genesToAdd.index.to_list()], fill_value=0.0)"
   ]
  },
  {
   "cell_type": "code",
   "execution_count": null,
   "id": "d1bf3e22",
   "metadata": {},
   "outputs": [],
   "source": [
    "dExprs"
   ]
  },
  {
   "cell_type": "code",
   "execution_count": null,
   "id": "a9d2fa2f",
   "metadata": {},
   "outputs": [],
   "source": [
    "dExprs.to_csv(\"dExprs_added_genes.csv\")"
   ]
  },
  {
   "cell_type": "code",
   "execution_count": null,
   "id": "7603283a",
   "metadata": {},
   "outputs": [],
   "source": [
    "dExprs = dExprs.set_axis(dvar.index.to_list(), axis=1, inplace=False)\n",
    "print(dExprs.shape)"
   ]
  },
  {
   "cell_type": "markdown",
   "id": "953ac0c4",
   "metadata": {},
   "source": [
    "## Prepare the hd5a file\n"
   ]
  },
  {
   "cell_type": "markdown",
   "id": "543f24e8",
   "metadata": {},
   "source": [
    "Generate annotated h5ad matrix.\n",
    "To speed up the matrices can also run: adata.X = csr_matrix(adata.X)\n",
    "\n"
   ]
  },
  {
   "cell_type": "code",
   "execution_count": null,
   "id": "a65c974e",
   "metadata": {},
   "outputs": [],
   "source": [
    "# Generate annotated h5ad matrix\n",
    "# To speed up the matrices can also run: adata.X = csr_matrix(adata.X)\n",
    "hdata = ad.AnnData(X=adata.X, obs=dobs2, var=dvar ,obsm=obsm, uns=uns)"
   ]
  },
  {
   "cell_type": "markdown",
   "id": "5290d9ee",
   "metadata": {},
   "source": [
    "Save the annotated matrix"
   ]
  },
  {
   "cell_type": "code",
   "execution_count": null,
   "id": "0a099c1d",
   "metadata": {},
   "outputs": [],
   "source": [
    "new_adata.var.pop('mt')"
   ]
  },
  {
   "cell_type": "code",
   "execution_count": null,
   "id": "92081562",
   "metadata": {},
   "outputs": [],
   "source": [
    "hdata.obs = hdata.obs.astype({'Age_in_years': 'category'})\n"
   ]
  },
  {
   "cell_type": "code",
   "execution_count": null,
   "id": "35d93d57",
   "metadata": {},
   "outputs": [],
   "source": [
    "hdata.X"
   ]
  },
  {
   "cell_type": "code",
   "execution_count": null,
   "id": "256e01e3",
   "metadata": {},
   "outputs": [],
   "source": [
    "hdata.X.shape"
   ]
  },
  {
   "cell_type": "code",
   "execution_count": null,
   "id": "3b8a7aa9",
   "metadata": {},
   "outputs": [],
   "source": [
    "adata"
   ]
  },
  {
   "cell_type": "code",
   "execution_count": null,
   "id": "f45d280a",
   "metadata": {},
   "outputs": [],
   "source": [
    "adata.varm['PCs']"
   ]
  },
  {
   "cell_type": "code",
   "execution_count": null,
   "id": "d6dbb233",
   "metadata": {},
   "outputs": [],
   "source": [
    "adata.obsp['connectivities']"
   ]
  },
  {
   "cell_type": "code",
   "execution_count": null,
   "id": "162cebd3",
   "metadata": {},
   "outputs": [],
   "source": [
    "hdata"
   ]
  },
  {
   "cell_type": "code",
   "execution_count": null,
   "id": "73a65d1a",
   "metadata": {},
   "outputs": [],
   "source": [
    "new_adata.obs['Age']"
   ]
  },
  {
   "cell_type": "code",
   "execution_count": null,
   "id": "365eecf0",
   "metadata": {},
   "outputs": [],
   "source": [
    "new_adata.obs.columns"
   ]
  },
  {
   "cell_type": "code",
   "execution_count": null,
   "id": "9eaf54e9",
   "metadata": {},
   "outputs": [],
   "source": [
    "new_adata.var.columns"
   ]
  },
  {
   "cell_type": "code",
   "execution_count": null,
   "id": "150176cc",
   "metadata": {},
   "outputs": [],
   "source": [
    "adata.write_h5ad(\"normalized_spacetime_matrix_edited.h5ad\")"
   ]
  },
  {
   "cell_type": "code",
   "execution_count": null,
   "id": "02c2e64a",
   "metadata": {},
   "outputs": [],
   "source": [
    "hdata.obs.dtypes"
   ]
  },
  {
   "cell_type": "code",
   "execution_count": null,
   "id": "f04a2cae",
   "metadata": {},
   "outputs": [],
   "source": [
    "adata.obs.dtypes"
   ]
  },
  {
   "cell_type": "code",
   "execution_count": null,
   "id": "dfb62143",
   "metadata": {},
   "outputs": [],
   "source": [
    "hdata.write_h5ad(\"normalized_spacetime_matrix_edited.h5ad\")"
   ]
  },
  {
   "cell_type": "markdown",
   "id": "e0864826",
   "metadata": {},
   "source": [
    "Generate raw h5ad matrix, in this case raw.var is not the same as var, as some genes have been filtered out"
   ]
  },
  {
   "cell_type": "code",
   "execution_count": null,
   "id": "2f1c06dc",
   "metadata": {},
   "outputs": [],
   "source": [
    "# Generate raw h5ad matrix, raw.var is not always going to be the same as var, but it is in this case because the\n",
    "# genes being investigated are identical and nothing was filtered out \n",
    "idata = ad.AnnData(X=rdata.X, var=rvar)"
   ]
  },
  {
   "cell_type": "code",
   "execution_count": null,
   "id": "64cb06d4",
   "metadata": {},
   "outputs": [],
   "source": [
    "idata.write(\"raw_spacetime_matrix_edited.h5ad\")"
   ]
  },
  {
   "cell_type": "markdown",
   "id": "df475130",
   "metadata": {},
   "source": [
    "## Filter allowed ENSEMBL IDs\n",
    "CellxGene only allows a set of genes (ENSEMBL IDs) to be included in their matrices. We need to filter those out."
   ]
  },
  {
   "cell_type": "code",
   "execution_count": null,
   "id": "0fd84d8a",
   "metadata": {},
   "outputs": [],
   "source": [
    "# Read in the saved objects if you start from here this section\n",
    "hdata = sc.read('normalized_spacetime_matrix_edited.h5ad')\n",
    "idata = sc.read('raw_spacetime_matrix_edited.h5ad')"
   ]
  },
  {
   "cell_type": "code",
   "execution_count": null,
   "id": "501485e5",
   "metadata": {},
   "outputs": [],
   "source": [
    "idata.var.drop(\"noVersionENS\",axis=1,inplace=True)"
   ]
  },
  {
   "cell_type": "code",
   "execution_count": null,
   "id": "1d2039dd",
   "metadata": {},
   "outputs": [],
   "source": [
    "hdata.var['feature_is_filtered'] = False"
   ]
  },
  {
   "cell_type": "code",
   "execution_count": null,
   "id": "b04abfba",
   "metadata": {},
   "outputs": [],
   "source": [
    "# idata.var.set_index(\"noVersionENS\", inplace=True)\n",
    "idata.var = idata.var.drop('feature_is_filtered', axis = 'columns')"
   ]
  },
  {
   "cell_type": "code",
   "execution_count": null,
   "id": "3f7e7770",
   "metadata": {},
   "outputs": [],
   "source": [
    "idata.var"
   ]
  },
  {
   "cell_type": "code",
   "execution_count": null,
   "id": "5aac4d03",
   "metadata": {},
   "outputs": [],
   "source": [
    "hdata.var.index"
   ]
  },
  {
   "cell_type": "code",
   "execution_count": null,
   "id": "254cc117",
   "metadata": {},
   "outputs": [],
   "source": [
    "#  Filter out allowed ENSEMBL IDs from annotated matrix\n",
    "approved = pd.read_csv('/Users/wteh/Documents/Wrangling/Cellxgene/KnowledgeShare/allowed_genes.txt',dtype='str')['feature_id'].to_list()\n",
    "\n",
    "var_to_keep = hdata.var.index.tolist()\n",
    "var_to_keep\n",
    "var_in_approved = hdata.var.index[hdata.var.index.isin(approved)].tolist()\n",
    "var_to_keep = [e for e in var_to_keep if e in var_in_approved]\n",
    "hdata = hdata[:, var_to_keep]"
   ]
  },
  {
   "cell_type": "code",
   "execution_count": null,
   "id": "ec05654b",
   "metadata": {},
   "outputs": [],
   "source": [
    "var_to_keep = idata.var.index.tolist()\n",
    "var_to_keep\n",
    "var_in_approved = idata.var.index[idata.var.index.isin(approved)].tolist()\n",
    "var_to_keep = [e for e in var_to_keep if e in var_in_approved]\n",
    "idata = idata[:, var_to_keep]"
   ]
  },
  {
   "cell_type": "code",
   "execution_count": null,
   "id": "da97fbdd",
   "metadata": {},
   "outputs": [],
   "source": [
    "hdata.var.shape"
   ]
  },
  {
   "cell_type": "code",
   "execution_count": null,
   "id": "5105b50d",
   "metadata": {},
   "outputs": [],
   "source": [
    "idata.var.shape"
   ]
  },
  {
   "cell_type": "markdown",
   "id": "3b8a888b",
   "metadata": {},
   "source": [
    "## Add raw matrix to hdata\n"
   ]
  },
  {
   "cell_type": "code",
   "execution_count": null,
   "id": "2c91260d",
   "metadata": {},
   "outputs": [],
   "source": [
    "# Add raw X matrix and raw var to the h5ad matrix \n",
    "hdata.raw = idata"
   ]
  },
  {
   "cell_type": "code",
   "execution_count": null,
   "id": "e9013e8f",
   "metadata": {},
   "outputs": [],
   "source": [
    "#if needed, transfer to sparse matrix format\n",
    "if type(hdata.X) != \"sparse.csr.csr_matrix\":\n",
    "    print('converting X to sparse')\n",
    "    hdata.X = csr_matrix(hdata.X)\n",
    "# if hdata.raw:\n",
    "#     if type(hdata.raw.X) != \"sparse.csr.csr_matrix\":\n",
    "#         print('converting raw.X to sparse')\n",
    "#         raw_adata = ad.AnnData(hdata.raw.X, var=hdata.raw.var, obs=hdata.obs)\n",
    "#         raw_adata.X = csr_matrix(raw_adata.X)\n",
    "#         hdata.raw = raw_adata"
   ]
  },
  {
   "cell_type": "code",
   "execution_count": null,
   "id": "c46815f0",
   "metadata": {
    "scrolled": true
   },
   "outputs": [],
   "source": [
    "hdata.write(\"To_Cellxgene_elo_lung_211122-3.h5ad\")"
   ]
  },
  {
   "cell_type": "code",
   "execution_count": null,
   "id": "184c7e20",
   "metadata": {},
   "outputs": [],
   "source": [
    "hdata.obs"
   ]
  },
  {
   "cell_type": "code",
   "execution_count": null,
   "id": "9e2b77e1",
   "metadata": {},
   "outputs": [],
   "source": []
  },
  {
   "cell_type": "code",
   "execution_count": null,
   "id": "44c99c07",
   "metadata": {},
   "outputs": [],
   "source": [
    "adata.obs.dtypes"
   ]
  },
  {
   "cell_type": "markdown",
   "id": "cb0ae407",
   "metadata": {},
   "source": [
    "## Validate before sending to CellxGene"
   ]
  },
  {
   "cell_type": "markdown",
   "id": "b4de65fd",
   "metadata": {},
   "source": [
    "\n",
    "Run the cellxgene-schema validate tool which validates if a h5ad object meets cellxgene schema. See details here: https://github.com/chanzuckerberg/single-cell-curation"
   ]
  },
  {
   "cell_type": "code",
   "execution_count": null,
   "id": "c5df3e3e",
   "metadata": {},
   "outputs": [],
   "source": [
    "hdata = sc.read(\"To_Cellxgene_elo_lung_211122.h5ad\")\n"
   ]
  },
  {
   "cell_type": "code",
   "execution_count": null,
   "id": "6570e86a",
   "metadata": {},
   "outputs": [],
   "source": [
    "hdata.obs = dobs2"
   ]
  },
  {
   "cell_type": "code",
   "execution_count": null,
   "id": "ce7852c5",
   "metadata": {},
   "outputs": [],
   "source": [
    "hdata.obs"
   ]
  },
  {
   "cell_type": "code",
   "execution_count": null,
   "id": "d17166f2",
   "metadata": {},
   "outputs": [],
   "source": [
    "hdata.uns = uns"
   ]
  },
  {
   "cell_type": "code",
   "execution_count": null,
   "id": "c1ce721f",
   "metadata": {},
   "outputs": [],
   "source": [
    "hdata.obs['disease_ontology_term_id']"
   ]
  },
  {
   "cell_type": "code",
   "execution_count": null,
   "id": "24be4a77",
   "metadata": {},
   "outputs": [],
   "source": [
    "hdata.obs['disease_ontology_term_id'][hdata.obs['disease_ontology_term_id'] == 'EFO:0000384'] = 'MONDO:0005011'"
   ]
  },
  {
   "cell_type": "code",
   "execution_count": null,
   "id": "b2718e61",
   "metadata": {},
   "outputs": [],
   "source": [
    "MONDO:0005011"
   ]
  },
  {
   "cell_type": "code",
   "execution_count": null,
   "id": "8d562cbb",
   "metadata": {},
   "outputs": [],
   "source": [
    "rawdata.var"
   ]
  },
  {
   "cell_type": "code",
   "execution_count": null,
   "id": "7c85bc24",
   "metadata": {},
   "outputs": [],
   "source": [
    "hdata.raw.var\n"
   ]
  },
  {
   "cell_type": "code",
   "execution_count": null,
   "id": "afe5085f",
   "metadata": {},
   "outputs": [],
   "source": [
    "normdata.var"
   ]
  },
  {
   "cell_type": "code",
   "execution_count": null,
   "id": "4171729f",
   "metadata": {
    "scrolled": true
   },
   "outputs": [],
   "source": [
    "hdata.var"
   ]
  },
  {
   "cell_type": "code",
   "execution_count": null,
   "id": "a8400f1d",
   "metadata": {},
   "outputs": [],
   "source": [
    "hdata.obs = hdata.obs.drop({'Age','Gender','Region code','sample name'}, axis = 'columns')"
   ]
  },
  {
   "cell_type": "code",
   "execution_count": null,
   "id": "7b41e43f",
   "metadata": {},
   "outputs": [],
   "source": [
    "hdata.var"
   ]
  },
  {
   "cell_type": "code",
   "execution_count": null,
   "id": "05560d7f",
   "metadata": {},
   "outputs": [],
   "source": [
    "hda"
   ]
  },
  {
   "cell_type": "code",
   "execution_count": null,
   "id": "c226ff84",
   "metadata": {},
   "outputs": [],
   "source": [
    "hdata.var['feature_biotype'] = 'gene'"
   ]
  },
  {
   "cell_type": "code",
   "execution_count": null,
   "id": "2533939a",
   "metadata": {},
   "outputs": [],
   "source": [
    "hdata.raw.var['feature_biotype'] = 'gene'"
   ]
  },
  {
   "cell_type": "code",
   "execution_count": null,
   "id": "b7e4f595",
   "metadata": {},
   "outputs": [],
   "source": [
    "hdata.obs = hdata.obs.astype({\"disease_ontology_term_id\":\"category\"})"
   ]
  },
  {
   "cell_type": "code",
   "execution_count": null,
   "id": "e55b71d7",
   "metadata": {},
   "outputs": [],
   "source": [
    "hdata.obs.dtypes"
   ]
  },
  {
   "cell_type": "code",
   "execution_count": null,
   "id": "1da1f357",
   "metadata": {},
   "outputs": [],
   "source": [
    "hdata.var.pop('mt')"
   ]
  },
  {
   "cell_type": "code",
   "execution_count": null,
   "id": "2294980a",
   "metadata": {},
   "outputs": [],
   "source": [
    "hdata.obs['is_primary_data']"
   ]
  },
  {
   "cell_type": "code",
   "execution_count": null,
   "id": "7f5cee63",
   "metadata": {},
   "outputs": [],
   "source": [
    "hdata.obs['is_primary_data'] = hdata.obs['is_primary_data'].replace('no', False)\n"
   ]
  },
  {
   "cell_type": "code",
   "execution_count": null,
   "id": "9763586c",
   "metadata": {},
   "outputs": [],
   "source": [
    "hdata.obs = hdata.obs.astype({\"is_primary_data\":\"bool\"})"
   ]
  },
  {
   "cell_type": "code",
   "execution_count": null,
   "id": "0d1b1999",
   "metadata": {},
   "outputs": [],
   "source": [
    "hdata.obs['cell_type_ontology_term_id'][hdata.obs['cell_type_ontology_term_id'] == 'CL:0009111'] = 'CL:0000844'"
   ]
  },
  {
   "cell_type": "code",
   "execution_count": null,
   "id": "e8bac27b",
   "metadata": {},
   "outputs": [],
   "source": [
    "hdata.obs['cell_type_ontology_term_id']"
   ]
  },
  {
   "cell_type": "code",
   "execution_count": null,
   "id": "7bd73ef3",
   "metadata": {},
   "outputs": [],
   "source": []
  },
  {
   "cell_type": "code",
   "execution_count": null,
   "id": "efdf5e7a",
   "metadata": {},
   "outputs": [],
   "source": [
    "CL: 0009112, CL: 0009111, CL: 0009105"
   ]
  },
  {
   "cell_type": "code",
   "execution_count": null,
   "id": "fbe6b9db",
   "metadata": {},
   "outputs": [],
   "source": [
    "CL:0009112 - centroblast - CL:0000844 (germinal center B cell)\n",
    "CL:0009111 - centrocyte - CL:0000844 (germinal center B cell)\n",
    "CL:0009105 - T cell zone reticular cell - CL:0009102 (lymph node fibroblastic reticular cell)"
   ]
  },
  {
   "cell_type": "code",
   "execution_count": null,
   "id": "e156caab",
   "metadata": {},
   "outputs": [],
   "source": []
  },
  {
   "cell_type": "code",
   "execution_count": null,
   "id": "d9029e37",
   "metadata": {},
   "outputs": [],
   "source": [
    "rExprs = rExprs.set_axis(rvarOrIndex, axis=1, inplace=False)\n",
    "rExprs = rExprs.loc[:,rKeepFeatIndex]\n",
    "print(rExprs.shape)"
   ]
  }
 ],
 "metadata": {
  "kernelspec": {
   "display_name": "Python 3",
   "language": "python",
   "name": "python3"
  },
  "language_info": {
   "codemirror_mode": {
    "name": "ipython",
    "version": 3
   },
   "file_extension": ".py",
   "mimetype": "text/x-python",
   "name": "python",
   "nbconvert_exporter": "python",
   "pygments_lexer": "ipython3",
   "version": "3.8.5"
  }
 },
 "nbformat": 4,
 "nbformat_minor": 5
}
